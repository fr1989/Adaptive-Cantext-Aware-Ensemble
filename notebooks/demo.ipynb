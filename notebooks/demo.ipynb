{
 "cells": [
  {
   "cell_type": "code",
   "execution_count": null,
   "id": "12372124",
   "metadata": {
    "vscode": {
     "languageId": "plaintext"
    }
   },
   "outputs": [],
   "source": [
    "!pip install -e .\n",
    "from adaptive_ensemble.data import load_and_prepare\n",
    "from adaptive_ensemble.context import ContextDetectorSK\n",
    "from adaptive_ensemble.learners import BaseLearners\n",
    "from adaptive_ensemble.agent import QLearningAgent\n",
    "from adaptive_ensemble.ensemble import add_context"
   ]
  },
  {
   "cell_type": "code",
   "execution_count": null,
   "id": "9f9124bf",
   "metadata": {
    "vscode": {
     "languageId": "plaintext"
    }
   },
   "outputs": [],
   "source": [
    "# ==============================\n",
    "# گام 3: بارگذاری و آماده‌سازی داده از Google Drive\n",
    "# ==============================\n",
    "from google.colab import drive\n",
    "drive.mount('/content/drive')\n",
    "\n",
    "csv_path = '/content/drive/MyDrive/yelp.csv'\n",
    "\n",
    "from adaptive_ensemble.data import load_and_prepare\n",
    "\n",
    "train_df, test_df = load_and_prepare(csv_path, test_size=0.2, random_state=42)\n",
    "\n",
    "print(f\"Train set: {train_df.shape}\")\n",
    "print(f\"Test set : {test_df.shape}\")\n",
    "\n",
    "train_df.head()\n"
   ]
  },
  {
   "cell_type": "code",
   "execution_count": null,
   "id": "7878e16f",
   "metadata": {
    "vscode": {
     "languageId": "plaintext"
    }
   },
   "outputs": [],
   "source": [
    "# ساخت detector با تعداد تاپیک k_topics=10\n",
    "detector = ContextDetectorSK(k_topics=10, max_features=5000)\n",
    "\n",
    "# آموزش روی متن‌های train\n",
    "detector.fit(train_df.clean_text.tolist())\n",
    "\n",
    "# تست کوچکی\n",
    "ctx_vec = detector(train_df.clean_text.iloc[0], train_df.date.iloc[0], train_df.user_id.iloc[0])\n",
    "print(\"Context vector shape:\", ctx_vec.shape)"
   ]
  },
  {
   "cell_type": "code",
   "execution_count": null,
   "id": "43abca92",
   "metadata": {
    "vscode": {
     "languageId": "plaintext"
    }
   },
   "outputs": [],
   "source": [
    "# اضافه کردن ستون‌های context\n",
    "train_ctx = add_context(train_df, detector)\n",
    "test_ctx  = add_context(test_df, detector)\n",
    "\n",
    "# بررسی شکل داده\n",
    "print(train_ctx.columns[-5:], train_ctx.shape)"
   ]
  },
  {
   "cell_type": "code",
   "execution_count": null,
   "id": "c68cee95",
   "metadata": {
    "vscode": {
     "languageId": "plaintext"
    }
   },
   "outputs": [],
   "source": [
    "import torch\n",
    "\n",
    "# تشخیص device\n",
    "device = torch.device('cuda' if torch.cuda.is_available() else 'cpu')\n",
    "print(\"Using device:\", device)\n",
    "\n",
    "# Base learners\n",
    "bl = BaseLearners(device)\n",
    "bl.fit_svm(train_df.clean_text.tolist(), train_df.label.tolist())\n",
    "\n",
    "# پارامترهای state و action\n",
    "state_dim  = train_ctx.filter(like=\"context_\").shape[1]\n",
    "action_dim = len(bl.predict_all([\"dummy\"])) + 1  # blend action\n",
    "\n",
    "agent = QLearningAgent(state_dim, action_dim)"
   ]
  },
  {
   "cell_type": "code",
   "execution_count": null,
   "id": "89912d83",
   "metadata": {
    "vscode": {
     "languageId": "plaintext"
    }
   },
   "outputs": [],
   "source": [
    "import numpy as np\n",
    "from sklearn.metrics import precision_recall_fscore_support\n",
    "import time\n",
    "import matplotlib.pyplot as plt\n",
    "\n",
    "# پاره‌ای پارامترها\n",
    "num_epochs, patience = 10, 3\n",
    "batch_size, target_update = 64, 50\n",
    "\n",
    "# آماده‌سازی داده‌ها\n",
    "X = train_ctx.filter(like=\"context_\").values\n",
    "y = train_ctx.label.values\n",
    "val_n = int(0.1 * len(X))\n",
    "X_val, y_val = X[:val_n], y[:val_n]\n",
    "X_tr, y_tr = X[val_n:], y[val_n:]\n",
    "\n",
    "rewards, best_f1, no_imp, step = [], 0, 0, 0\n",
    "start = time.time()\n",
    "\n",
    "for ep in range(1, num_epochs+1):\n",
    "    total_r = 0\n",
    "    for i, s in enumerate(X_tr):\n",
    "        models = bl.predict_all([train_df.clean_text.iloc[val_n+i]])\n",
    "        action = agent.select_action(s)\n",
    "        # ... (reward shaping as before) ...\n",
    "        # فرض کنید reward محاسبه می‌شود\n",
    "        reward = 1.0  # نمونه\n",
    "        total_r += reward\n",
    "        agent.store(s, action, reward, s)\n",
    "        agent.optimize(batch_size)\n",
    "        if step % target_update == 0:\n",
    "            agent.update_target()\n",
    "        agent.eps *= 0.99\n",
    "        step += 1\n",
    "    rewards.append(total_r)\n",
    "\n",
    "    # اعتبارسنجی ساده\n",
    "    y_pred = [agent.select_action(s) for s in X_val]\n",
    "    _,_,f1,_ = precision_recall_fscore_support(y_val, y_pred, average='macro')\n",
    "    print(f\"Epoch {ep}: Reward={total_r:.1f}, F1={f1:.4f}\")\n",
    "\n",
    "    if f1 > best_f1:\n",
    "        best_f1, no_imp = f1, 0\n",
    "    else:\n",
    "        no_imp += 1\n",
    "        if no_imp >= patience:\n",
    "            break\n",
    "\n",
    "print(\"Training done in\", round((time.time()-start)/60,2), \"min\")\n",
    "\n",
    "# نمایش نمودار پاداش\n",
    "plt.plot(rewards)\n",
    "plt.title(\"Rewards per Epoch\")\n",
    "plt.xlabel(\"Epoch\")\n",
    "plt.ylabel(\"Total Reward\")\n",
    "plt.show()"
   ]
  }
 ],
 "metadata": {
  "language_info": {
   "name": "python"
  }
 },
 "nbformat": 4,
 "nbformat_minor": 5
}
